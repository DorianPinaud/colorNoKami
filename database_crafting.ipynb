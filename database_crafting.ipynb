{
 "cells": [
  {
   "cell_type": "markdown",
   "metadata": {},
   "source": [
    "# Build the Database\n",
    "\n",
    "*In this notebook, we build up the Color No Kami's database.*"
   ]
  },
  {
   "cell_type": "code",
   "execution_count": null,
   "metadata": {},
   "outputs": [],
   "source": [
    "from pymongo import MongoClient\n",
    "\n",
    "from database_crafting.mongo_database_crafting import MongoDatabaseCraftingPipeline\n",
    "from database_crafting.timeout.timeout_in_seconds_processor import TimeoutInSecondProcessorFactory\n",
    "\n",
    "db_client = MongoClient(\"localhost\", port=27017)\n",
    "db = db_client.ColorNoKami\n",
    "timeout_factory = TimeoutInSecondProcessorFactory(1)\n",
    "pipeline = MongoDatabaseCraftingPipeline(db, timeout_factory)\n",
    "pipeline.execute()"
   ]
  },
  {
   "cell_type": "code",
   "execution_count": null,
   "metadata": {},
   "outputs": [],
   "source": [
    "\n",
    "\n",
    "# chapters = list(db.chapters.find({}))\n",
    "# chapters_cnt = len(chapters)\n",
    "# for index, chapter in enumerate(chapters):\n",
    "#     colorfull_id = chapter[\"chapter_info\"][\"chapter_version\"][0][\"id\"]\n",
    "#     monochrome_id = chapter[\"chapter_info\"][\"chapter_version\"][1][\"id\"]\n",
    "#     try:\n",
    "#         log_client.get(f\"{base_url}/at-home/server/{monochrome_id}\")\n",
    "#         log_client.get(f\"{base_url}/at-home/server/{colorfull_id}\")\n",
    "#     except Exception as error:\n",
    "#         print(error)\n",
    "#     print(f\"Progress {index}/{chapters_cnt}\", end=\"\\r\", flush=True)\n",
    "# print(\"\\nDone\", flush=True)"
   ]
  },
  {
   "cell_type": "code",
   "execution_count": null,
   "metadata": {},
   "outputs": [],
   "source": [
    "# chapters = list(db.chapters.find({}))\n",
    "# chapters_cnt = len(chapters)\n",
    "\n",
    "\n",
    "# def register_urls(chapter, index):\n",
    "#     url_nbr = len(chapter[\"url\"])\n",
    "#     for idx, url in enumerate(chapter[\"url\"]):\n",
    "#         print(\n",
    "#             f\"Total progress {index+1}/{chapters_cnt}, Download {idx+1}/{url_nbr}           \",\n",
    "#             end=\"\\r\",\n",
    "#             flush=True,\n",
    "#         )\n",
    "#         img_databank.register(chapter[\"baseUrl\"], chapter[\"hash\"], url)\n",
    "\n",
    "\n",
    "# for index, chapter in enumerate(chapters):\n",
    "#     register_urls(chapter[\"fullcolor_version\"], index)\n",
    "#     register_urls(chapter[\"monochromic_version\"], index)\n",
    "\n",
    "# print(\"\\nDone\", flush=True)"
   ]
  },
  {
   "cell_type": "code",
   "execution_count": null,
   "metadata": {},
   "outputs": [],
   "source": [
    "# # count number of chapter already download\n",
    "# chapters = list(db.chapters.find({}))\n",
    "# chapters_cnt = len(chapters)\n",
    "\n",
    "# def count_total_download(chapter, index):\n",
    "#     if not \"url\" in chapter:\n",
    "#         pprint.pp(chapter)\n",
    "#     url_nbr = len(chapter[\"url\"])\n",
    "#     total_download = 0\n",
    "#     for idx, url in enumerate(chapter[\"url\"]):\n",
    "#         print(\n",
    "#             f\"Total progress {index+1}/{chapters_cnt}, Download {idx+1}/{url_nbr}           \",\n",
    "#             end=\"\\r\",\n",
    "#             flush=True,\n",
    "#         )\n",
    "#         total_download += 1 if img_databank.has(chapter[\"baseUrl\"], chapter[\"hash\"], url) else 0\n",
    "#     return total_download\n",
    "        \n",
    "# total_download = 0\n",
    "# for index, chapter in enumerate(chapters):\n",
    "#     total_download += count_total_download(chapter[\"fullcolor_version\"], index)\n",
    "#     total_download += count_total_download(chapter[\"monochromic_version\"], index)\n",
    "    \n",
    "# print(f\"\\n\\nDone, total download: {total_download}\", flush=True)"
   ]
  },
  {
   "cell_type": "code",
   "execution_count": null,
   "metadata": {},
   "outputs": [],
   "source": [
    "# import matplotlib.pyplot as plt\n",
    "# import pprint\n",
    "\n",
    "# chapters = list(db.chapters.find({}))\n",
    "# filled_chapter = None\n",
    "\n",
    "# for index, chapter in enumerate(chapters):\n",
    "#     for chapter_version in chapter[\"chapter_info\"][\"chapter_version\"]:\n",
    "#         if not \"url\" in chapter_version:\n",
    "#             continue\n",
    "#         for idx, url in enumerate(chapter_version[\"url\"]):\n",
    "#             if img_databank.has(chapter_version[\"baseUrl\"], chapter_version[\"hash\"], url):\n",
    "#                 filled_chapter = chapter\n",
    "#                 break\n",
    "#         if filled_chapter:\n",
    "#             break\n",
    "#     if filled_chapter:\n",
    "#             break\n",
    "        \n",
    "# pprint.pp(filled_chapter)"
   ]
  }
 ],
 "metadata": {
  "kernelspec": {
   "display_name": "env",
   "language": "python",
   "name": "python3"
  },
  "language_info": {
   "codemirror_mode": {
    "name": "ipython",
    "version": 3
   },
   "file_extension": ".py",
   "mimetype": "text/x-python",
   "name": "python",
   "nbconvert_exporter": "python",
   "pygments_lexer": "ipython3",
   "version": "3.11.4"
  }
 },
 "nbformat": 4,
 "nbformat_minor": 2
}
