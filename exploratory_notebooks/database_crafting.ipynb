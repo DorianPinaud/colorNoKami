{
 "cells": [
  {
   "cell_type": "markdown",
   "metadata": {},
   "source": [
    "# Build the Database\n",
    "\n",
    "*In this notebook, we build up the Color No Kami's database.*"
   ]
  },
  {
   "cell_type": "code",
   "execution_count": 2,
   "metadata": {},
   "outputs": [
    {
     "name": "stdout",
     "output_type": "stream",
     "text": [
      "Processing ./dist/database_crafting-0.1.0-py3-none-any.whl\n",
      "Collecting httpx<0.29.0,>=0.28.1 (from database-crafting==0.1.0)\n",
      "  Downloading httpx-0.28.1-py3-none-any.whl.metadata (7.1 kB)\n",
      "Collecting pillow<12.0.0,>=11.0.0 (from database-crafting==0.1.0)\n",
      "  Downloading pillow-11.0.0-cp311-cp311-manylinux_2_28_x86_64.whl.metadata (9.1 kB)\n",
      "Collecting pymongo<5.0.0,>=4.10.1 (from database-crafting==0.1.0)\n",
      "  Downloading pymongo-4.10.1-cp311-cp311-manylinux_2_17_x86_64.manylinux2014_x86_64.whl.metadata (22 kB)\n",
      "Collecting singleton-decorator<2.0.0,>=1.0.0 (from database-crafting==0.1.0)\n",
      "  Downloading singleton-decorator-1.0.0.tar.gz (2.8 kB)\n",
      "  Preparing metadata (setup.py) ... \u001b[?25ldone\n",
      "\u001b[?25hRequirement already satisfied: anyio in /opt/conda/lib/python3.11/site-packages (from httpx<0.29.0,>=0.28.1->database-crafting==0.1.0) (4.0.0)\n",
      "Requirement already satisfied: certifi in /opt/conda/lib/python3.11/site-packages (from httpx<0.29.0,>=0.28.1->database-crafting==0.1.0) (2023.7.22)\n",
      "Collecting httpcore==1.* (from httpx<0.29.0,>=0.28.1->database-crafting==0.1.0)\n",
      "  Downloading httpcore-1.0.7-py3-none-any.whl.metadata (21 kB)\n",
      "Requirement already satisfied: idna in /opt/conda/lib/python3.11/site-packages (from httpx<0.29.0,>=0.28.1->database-crafting==0.1.0) (3.4)\n",
      "Collecting h11<0.15,>=0.13 (from httpcore==1.*->httpx<0.29.0,>=0.28.1->database-crafting==0.1.0)\n",
      "  Downloading h11-0.14.0-py3-none-any.whl.metadata (8.2 kB)\n",
      "Collecting dnspython<3.0.0,>=1.16.0 (from pymongo<5.0.0,>=4.10.1->database-crafting==0.1.0)\n",
      "  Downloading dnspython-2.7.0-py3-none-any.whl.metadata (5.8 kB)\n",
      "Requirement already satisfied: sniffio>=1.1 in /opt/conda/lib/python3.11/site-packages (from anyio->httpx<0.29.0,>=0.28.1->database-crafting==0.1.0) (1.3.0)\n",
      "Downloading httpx-0.28.1-py3-none-any.whl (73 kB)\n",
      "\u001b[2K   \u001b[90m━━━━━━━━━━━━━━━━━━━━━━━━━━━━━━━━━━━━━━━━\u001b[0m \u001b[32m73.5/73.5 kB\u001b[0m \u001b[31m3.2 MB/s\u001b[0m eta \u001b[36m0:00:00\u001b[0m\n",
      "\u001b[?25hDownloading httpcore-1.0.7-py3-none-any.whl (78 kB)\n",
      "\u001b[2K   \u001b[90m━━━━━━━━━━━━━━━━━━━━━━━━━━━━━━━━━━━━━━━━\u001b[0m \u001b[32m78.6/78.6 kB\u001b[0m \u001b[31m4.7 MB/s\u001b[0m eta \u001b[36m0:00:00\u001b[0m\n",
      "\u001b[?25hDownloading pillow-11.0.0-cp311-cp311-manylinux_2_28_x86_64.whl (4.4 MB)\n",
      "\u001b[2K   \u001b[90m━━━━━━━━━━━━━━━━━━━━━━━━━━━━━━━━━━━━━━━━\u001b[0m \u001b[32m4.4/4.4 MB\u001b[0m \u001b[31m17.5 MB/s\u001b[0m eta \u001b[36m0:00:00\u001b[0ma \u001b[36m0:00:01\u001b[0m\n",
      "\u001b[?25hDownloading pymongo-4.10.1-cp311-cp311-manylinux_2_17_x86_64.manylinux2014_x86_64.whl (1.7 MB)\n",
      "\u001b[2K   \u001b[90m━━━━━━━━━━━━━━━━━━━━━━━━━━━━━━━━━━━━━━━━\u001b[0m \u001b[32m1.7/1.7 MB\u001b[0m \u001b[31m15.8 MB/s\u001b[0m eta \u001b[36m0:00:00\u001b[0ma \u001b[36m0:00:01\u001b[0m\n",
      "\u001b[?25hDownloading dnspython-2.7.0-py3-none-any.whl (313 kB)\n",
      "\u001b[2K   \u001b[90m━━━━━━━━━━━━━━━━━━━━━━━━━━━━━━━━━━━━━━━━\u001b[0m \u001b[32m313.6/313.6 kB\u001b[0m \u001b[31m12.1 MB/s\u001b[0m eta \u001b[36m0:00:00\u001b[0m\n",
      "\u001b[?25hDownloading h11-0.14.0-py3-none-any.whl (58 kB)\n",
      "\u001b[2K   \u001b[90m━━━━━━━━━━━━━━━━━━━━━━━━━━━━━━━━━━━━━━━━\u001b[0m \u001b[32m58.3/58.3 kB\u001b[0m \u001b[31m2.9 MB/s\u001b[0m eta \u001b[36m0:00:00\u001b[0m\n",
      "\u001b[?25hBuilding wheels for collected packages: singleton-decorator\n",
      "  Building wheel for singleton-decorator (setup.py) ... \u001b[?25ldone\n",
      "\u001b[?25h  Created wheel for singleton-decorator: filename=singleton_decorator-1.0.0-py3-none-any.whl size=3105 sha256=43848ff1431edfd5bac5bead5615830ce3da73e5cd7e179e7eb59696b4e66163\n",
      "  Stored in directory: /root/.cache/pip/wheels/6a/0a/54/5596b40dfee1cd1b8f9316bee48e5a0d95b7484d2225750fa2\n",
      "Successfully built singleton-decorator\n",
      "Installing collected packages: singleton-decorator, pillow, h11, dnspython, pymongo, httpcore, httpx, database-crafting\n",
      "Successfully installed database-crafting-0.1.0 dnspython-2.7.0 h11-0.14.0 httpcore-1.0.7 httpx-0.28.1 pillow-11.0.0 pymongo-4.10.1 singleton-decorator-1.0.0\n",
      "\u001b[33mWARNING: Running pip as the 'root' user can result in broken permissions and conflicting behaviour with the system package manager. It is recommended to use a virtual environment instead: https://pip.pypa.io/warnings/venv\u001b[0m\u001b[33m\n",
      "\u001b[0m"
     ]
    }
   ],
   "source": [
    "!sudo pip install ./dist/database_crafting-0.1.0-py3-none-any.whl\n"
   ]
  },
  {
   "cell_type": "code",
   "execution_count": 3,
   "metadata": {},
   "outputs": [
    {
     "ename": "ModuleNotFoundError",
     "evalue": "No module named 'logstash_async'",
     "output_type": "error",
     "traceback": [
      "\u001b[0;31m---------------------------------------------------------------------------\u001b[0m",
      "\u001b[0;31mModuleNotFoundError\u001b[0m                       Traceback (most recent call last)",
      "Cell \u001b[0;32mIn[3], line 5\u001b[0m\n\u001b[1;32m      3\u001b[0m \u001b[38;5;28;01mfrom\u001b[39;00m \u001b[38;5;21;01mdatabase_crafting\u001b[39;00m\u001b[38;5;21;01m.\u001b[39;00m\u001b[38;5;21;01mmongo_database_crafting\u001b[39;00m \u001b[38;5;28;01mimport\u001b[39;00m MongoDatabaseCraftingPipeline\n\u001b[1;32m      4\u001b[0m \u001b[38;5;28;01mfrom\u001b[39;00m \u001b[38;5;21;01mdatabase_crafting\u001b[39;00m\u001b[38;5;21;01m.\u001b[39;00m\u001b[38;5;21;01mtimeout\u001b[39;00m\u001b[38;5;21;01m.\u001b[39;00m\u001b[38;5;21;01mtimeout_in_seconds_processor\u001b[39;00m \u001b[38;5;28;01mimport\u001b[39;00m TimeoutInSecondProcessorFactory\n\u001b[0;32m----> 5\u001b[0m \u001b[38;5;28;01mfrom\u001b[39;00m \u001b[38;5;21;01mdatabase_crafting\u001b[39;00m\u001b[38;5;21;01m.\u001b[39;00m\u001b[38;5;21;01mlogging\u001b[39;00m\u001b[38;5;21;01m.\u001b[39;00m\u001b[38;5;21;01mdefault_logger\u001b[39;00m \u001b[38;5;28;01mimport\u001b[39;00m DefaultLogger\n\u001b[1;32m      7\u001b[0m DefaultLogger()\u001b[38;5;241m.\u001b[39minfo(\u001b[38;5;124m\"\u001b[39m\u001b[38;5;124mRun application\u001b[39m\u001b[38;5;124m\"\u001b[39m)\n\u001b[1;32m      9\u001b[0m \u001b[38;5;66;03m# db = db_client.ColorNoKami\u001b[39;00m\n\u001b[1;32m     10\u001b[0m \u001b[38;5;66;03m# db_client = MongoClient(\"localhost\", port=27017)\u001b[39;00m\n\u001b[1;32m     11\u001b[0m \u001b[38;5;66;03m# timeout_factory = TimeoutInSecondProcessorFactory(1)\u001b[39;00m\n\u001b[1;32m     12\u001b[0m \u001b[38;5;66;03m# pipeline = MongoDatabaseCraftingPipeline(db, timeout_factory)\u001b[39;00m\n\u001b[1;32m     13\u001b[0m \u001b[38;5;66;03m# pipeline.execute()\u001b[39;00m\n",
      "File \u001b[0;32m/opt/conda/lib/python3.11/site-packages/database_crafting/logging/default_logger.py:4\u001b[0m\n\u001b[1;32m      2\u001b[0m \u001b[38;5;28;01mfrom\u001b[39;00m \u001b[38;5;21;01msingleton_decorator\u001b[39;00m \u001b[38;5;28;01mimport\u001b[39;00m singleton  \u001b[38;5;66;03m# type: ignore\u001b[39;00m\n\u001b[1;32m      3\u001b[0m \u001b[38;5;28;01mimport\u001b[39;00m \u001b[38;5;21;01mlogging\u001b[39;00m\n\u001b[0;32m----> 4\u001b[0m \u001b[38;5;28;01mfrom\u001b[39;00m \u001b[38;5;21;01mlogstash_async\u001b[39;00m\u001b[38;5;21;01m.\u001b[39;00m\u001b[38;5;21;01mhandler\u001b[39;00m \u001b[38;5;28;01mimport\u001b[39;00m AsynchronousLogstashHandler  \u001b[38;5;66;03m# type: ignore\u001b[39;00m\n\u001b[1;32m      5\u001b[0m \u001b[38;5;28;01mfrom\u001b[39;00m \u001b[38;5;21;01mlogstash_async\u001b[39;00m\u001b[38;5;21;01m.\u001b[39;00m\u001b[38;5;21;01mtransport\u001b[39;00m \u001b[38;5;28;01mimport\u001b[39;00m BeatsTransport  \u001b[38;5;66;03m# type: ignore\u001b[39;00m\n\u001b[1;32m      8\u001b[0m \u001b[38;5;129m@singleton\u001b[39m\n\u001b[1;32m      9\u001b[0m \u001b[38;5;28;01mclass\u001b[39;00m \u001b[38;5;21;01mDefaultLogger\u001b[39;00m(LoggingService):\n",
      "\u001b[0;31mModuleNotFoundError\u001b[0m: No module named 'logstash_async'"
     ]
    }
   ],
   "source": [
    "from pymongo import MongoClient\n",
    "\n",
    "from database_crafting.mongo_database_crafting import MongoDatabaseCraftingPipeline\n",
    "from database_crafting.timeout.timeout_in_seconds_processor import TimeoutInSecondProcessorFactory\n",
    "from database_crafting.logging.default_logger import DefaultLogger\n",
    "\n",
    "DefaultLogger().info(\"Run application\")\n",
    "\n",
    "# db = db_client.ColorNoKami\n",
    "# db_client = MongoClient(\"localhost\", port=27017)\n",
    "# timeout_factory = TimeoutInSecondProcessorFactory(1)\n",
    "# pipeline = MongoDatabaseCraftingPipeline(db, timeout_factory)\n",
    "# pipeline.execute()"
   ]
  },
  {
   "cell_type": "code",
   "execution_count": 4,
   "metadata": {},
   "outputs": [],
   "source": [
    "\n",
    "\n",
    "# chapters = list(db.chapters.find({}))\n",
    "# chapters_cnt = len(chapters)\n",
    "# for index, chapter in enumerate(chapters):\n",
    "#     colorfull_id = chapter[\"chapter_info\"][\"chapter_version\"][0][\"id\"]\n",
    "#     monochrome_id = chapter[\"chapter_info\"][\"chapter_version\"][1][\"id\"]\n",
    "#     try:\n",
    "#         log_client.get(f\"{base_url}/at-home/server/{monochrome_id}\")\n",
    "#         log_client.get(f\"{base_url}/at-home/server/{colorfull_id}\")\n",
    "#     except Exception as error:\n",
    "#         print(error)\n",
    "#     print(f\"Progress {index}/{chapters_cnt}\", end=\"\\r\", flush=True)\n",
    "# print(\"\\nDone\", flush=True)"
   ]
  },
  {
   "cell_type": "code",
   "execution_count": 5,
   "metadata": {},
   "outputs": [],
   "source": [
    "# chapters = list(db.chapters.find({}))\n",
    "# chapters_cnt = len(chapters)\n",
    "\n",
    "\n",
    "# def register_urls(chapter, index):\n",
    "#     url_nbr = len(chapter[\"url\"])\n",
    "#     for idx, url in enumerate(chapter[\"url\"]):\n",
    "#         print(\n",
    "#             f\"Total progress {index+1}/{chapters_cnt}, Download {idx+1}/{url_nbr}           \",\n",
    "#             end=\"\\r\",\n",
    "#             flush=True,\n",
    "#         )\n",
    "#         img_databank.register(chapter[\"baseUrl\"], chapter[\"hash\"], url)\n",
    "\n",
    "\n",
    "# for index, chapter in enumerate(chapters):\n",
    "#     register_urls(chapter[\"fullcolor_version\"], index)\n",
    "#     register_urls(chapter[\"monochromic_version\"], index)\n",
    "\n",
    "# print(\"\\nDone\", flush=True)"
   ]
  },
  {
   "cell_type": "code",
   "execution_count": 6,
   "metadata": {},
   "outputs": [],
   "source": [
    "# # count number of chapter already download\n",
    "# chapters = list(db.chapters.find({}))\n",
    "# chapters_cnt = len(chapters)\n",
    "\n",
    "# def count_total_download(chapter, index):\n",
    "#     if not \"url\" in chapter:\n",
    "#         pprint.pp(chapter)\n",
    "#     url_nbr = len(chapter[\"url\"])\n",
    "#     total_download = 0\n",
    "#     for idx, url in enumerate(chapter[\"url\"]):\n",
    "#         print(\n",
    "#             f\"Total progress {index+1}/{chapters_cnt}, Download {idx+1}/{url_nbr}           \",\n",
    "#             end=\"\\r\",\n",
    "#             flush=True,\n",
    "#         )\n",
    "#         total_download += 1 if img_databank.has(chapter[\"baseUrl\"], chapter[\"hash\"], url) else 0\n",
    "#     return total_download\n",
    "        \n",
    "# total_download = 0\n",
    "# for index, chapter in enumerate(chapters):\n",
    "#     total_download += count_total_download(chapter[\"fullcolor_version\"], index)\n",
    "#     total_download += count_total_download(chapter[\"monochromic_version\"], index)\n",
    "    \n",
    "# print(f\"\\n\\nDone, total download: {total_download}\", flush=True)"
   ]
  },
  {
   "cell_type": "code",
   "execution_count": 7,
   "metadata": {},
   "outputs": [],
   "source": [
    "# import matplotlib.pyplot as plt\n",
    "# import pprint\n",
    "\n",
    "# chapters = list(db.chapters.find({}))\n",
    "# filled_chapter = None\n",
    "\n",
    "# for index, chapter in enumerate(chapters):\n",
    "#     for chapter_version in chapter[\"chapter_info\"][\"chapter_version\"]:\n",
    "#         if not \"url\" in chapter_version:\n",
    "#             continue\n",
    "#         for idx, url in enumerate(chapter_version[\"url\"]):\n",
    "#             if img_databank.has(chapter_version[\"baseUrl\"], chapter_version[\"hash\"], url):\n",
    "#                 filled_chapter = chapter\n",
    "#                 break\n",
    "#         if filled_chapter:\n",
    "#             break\n",
    "#     if filled_chapter:\n",
    "#             break\n",
    "        \n",
    "# pprint.pp(filled_chapter)"
   ]
  }
 ],
 "metadata": {
  "kernelspec": {
   "display_name": "Python 3 (ipykernel)",
   "language": "python",
   "name": "python3"
  },
  "language_info": {
   "codemirror_mode": {
    "name": "ipython",
    "version": 3
   },
   "file_extension": ".py",
   "mimetype": "text/x-python",
   "name": "python",
   "nbconvert_exporter": "python",
   "pygments_lexer": "ipython3",
   "version": "3.11.6"
  }
 },
 "nbformat": 4,
 "nbformat_minor": 4
}
